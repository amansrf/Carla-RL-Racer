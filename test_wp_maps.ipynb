{
 "cells": [
  {
   "cell_type": "code",
   "execution_count": 1,
   "metadata": {},
   "outputs": [
    {
     "name": "stdout",
     "output_type": "stream",
     "text": [
      "pygame 2.1.2 (SDL 2.0.18, Python 3.8.13)\n",
      "Hello from the pygame community. https://www.pygame.org/contribute.html\n",
      "Jupyter environment detected. Enabling Open3D WebVisualizer.\n",
      "[Open3D INFO] WebRTC GUI backend enabled.\n",
      "[Open3D INFO] WebRTCWindowSystem: HTTP handshake server disabled.\n"
     ]
    }
   ],
   "source": [
    "import numpy as np\n",
    "from ROAR.utilities_module.occupancy_map import OccupancyGridMap\n",
    "from pathlib import Path\n",
    "import logging\n",
    "from pathlib import Path\n",
    "from ROAR_Sim.configurations.configuration import Configuration as CarlaConfig\n",
    "from ROAR_Sim.carla_client.carla_runner import CarlaRunner\n",
    "from ROAR.agent_module.pure_pursuit_agent import PurePursuitAgent\n",
    "from ROAR.configurations.configuration import Configuration as AgentConfig\n",
    "from ROAR.agent_module.michael_pid_agent import PIDAgent\n",
    "from ROAR.agent_module.special_agents.waypoint_generating_agent import WaypointGeneratigAgent\n",
    "from ROAR.agent_module.special_agents.recording_agent import RecordingAgent\n",
    "from ROAR.agent_module.rl_e2e_ppo_agent import RLe2ePPOAgent\n",
    "import argparse\n",
    "from ROAR.utilities_module.data_structures_models import Transform, Location\n",
    "import cv2\n",
    "from ROAR_gym.configurations.ppo_configuration import misc_params, spawn_params"
   ]
  },
  {
   "cell_type": "code",
   "execution_count": 2,
   "metadata": {},
   "outputs": [
    {
     "name": "stdout",
     "output_type": "stream",
     "text": [
      "337665 419\n"
     ]
    }
   ],
   "source": [
    "agent_config = AgentConfig.parse_file(Path(\"./ROAR_gym/configurations/agent_configuration.json\"))\n",
    "agent = RLe2ePPOAgent(vehicle=None, agent_settings=agent_config)"
   ]
  },
  {
   "cell_type": "code",
   "execution_count": 4,
   "metadata": {},
   "outputs": [
    {
     "name": "stdout",
     "output_type": "stream",
     "text": [
      "337246\n"
     ]
    }
   ],
   "source": [
    "print(len(agent.plan_lst))"
   ]
  },
  {
   "cell_type": "code",
   "execution_count": 4,
   "metadata": {},
   "outputs": [
    {
     "name": "stdout",
     "output_type": "stream",
     "text": [
      "9.147531620648358e-07 0.07622707477629088 337665\n"
     ]
    }
   ],
   "source": []
  },
  {
   "cell_type": "code",
   "execution_count": 5,
   "metadata": {},
   "outputs": [
    {
     "data": {
      "text/plain": [
       "list"
      ]
     },
     "execution_count": 5,
     "metadata": {},
     "output_type": "execute_result"
    }
   ],
   "source": []
  },
  {
   "cell_type": "code",
   "execution_count": 6,
   "metadata": {},
   "outputs": [],
   "source": [
    "new_waypoints = agent.plan_lst\n",
    "remove_index = []\n",
    "for i in range(1, len(new_waypoints)):\n",
    "        pt1 = new_waypoints[i-1]\n",
    "        pt2 = new_waypoints[i]\n",
    "        dist = np.linalg.norm (pt1 - pt2)\n",
    "        if dist <= 1e-3:\n",
    "            remove_index.append(i)"
   ]
  },
  {
   "cell_type": "code",
   "execution_count": 7,
   "metadata": {},
   "outputs": [
    {
     "name": "stdout",
     "output_type": "stream",
     "text": [
      "337665 419\n"
     ]
    }
   ],
   "source": [
    "print(len(agent.plan_lst), len(remove_index))"
   ]
  },
  {
   "cell_type": "code",
   "execution_count": 8,
   "metadata": {},
   "outputs": [],
   "source": [
    "for i in range(len(remove_index)):\n",
    "    agent.plan_lst.pop(remove_index[i] - i)"
   ]
  },
  {
   "cell_type": "code",
   "execution_count": 9,
   "metadata": {},
   "outputs": [
    {
     "name": "stdout",
     "output_type": "stream",
     "text": [
      "337246 419\n"
     ]
    }
   ],
   "source": [
    "print(len(agent.plan_lst), len(remove_index))"
   ]
  },
  {
   "cell_type": "code",
   "execution_count": 10,
   "metadata": {},
   "outputs": [
    {
     "name": "stdout",
     "output_type": "stream",
     "text": [
      "0.0010011512503163556 0.07622707477629088 337246\n"
     ]
    }
   ],
   "source": [
    "dist_lst = np.array(agent.mission_planner.waypoints_list_check(agent.plan_lst))"
   ]
  },
  {
   "cell_type": "code",
   "execution_count": null,
   "metadata": {},
   "outputs": [],
   "source": []
  },
  {
   "cell_type": "code",
   "execution_count": 7,
   "metadata": {},
   "outputs": [
    {
     "data": {
      "text/plain": [
       "array([2599.19995117,  104.74610138, 4372.60009766,    0.        ,\n",
       "          0.        ,   10.00061798])"
      ]
     },
     "execution_count": 7,
     "metadata": {},
     "output_type": "execute_result"
    }
   ],
   "source": [
    "#file = open(\"C://Users//roar//Desktop//ROAR_record//ROAR_record//data//output//border_waypoints//right_side_major_map_waypoints.txt\")\n",
    "file = open(\".//data//waypoints//major_map_waypoints2.txt\")\n",
    "full_list = []\n",
    "for r in file:\n",
    "    cur_list = []\n",
    "    seg = r.rstrip().split(',')\n",
    "    for item in seg:\n",
    "        cur_list.append(float(item))\n",
    "    full_list.append(cur_list)\n",
    "waypoints = np.array(full_list)\n",
    "#waypoints[:, 3:] = [0, 0, 0]\n",
    "#waypoints[:, :3] += np.array([50, -8, 295])\n",
    "waypoints[0]"
   ]
  },
  {
   "cell_type": "code",
   "execution_count": 8,
   "metadata": {},
   "outputs": [
    {
     "name": "stdout",
     "output_type": "stream",
     "text": [
      "[2599.19995117  104.74610138 4372.60009766    0.            0.\n",
      "   10.00061798]\n"
     ]
    }
   ],
   "source": [
    "len(waypoints)\n",
    "print(waypoints[0])"
   ]
  },
  {
   "cell_type": "code",
   "execution_count": 3,
   "metadata": {},
   "outputs": [
    {
     "ename": "TypeError",
     "evalue": "interpolate_waypoints() missing 1 required positional argument: 'thres'",
     "output_type": "error",
     "traceback": [
      "\u001b[1;31m---------------------------------------------------------------------------\u001b[0m",
      "\u001b[1;31mTypeError\u001b[0m                                 Traceback (most recent call last)",
      "\u001b[1;32md:\\ROAR_XUAN\\ROAR-RL-Racer\\test_wp_maps.ipynb Cell 4\u001b[0m in \u001b[0;36m<cell line: 2>\u001b[1;34m()\u001b[0m\n\u001b[0;32m      <a href='vscode-notebook-cell:/d%3A/ROAR_XUAN/ROAR-RL-Racer/test_wp_maps.ipynb#X10sZmlsZQ%3D%3D?line=0'>1</a>\u001b[0m agent_config \u001b[39m=\u001b[39m AgentConfig\u001b[39m.\u001b[39mparse_file(Path(\u001b[39m\"\u001b[39m\u001b[39m./ROAR_gym/configurations/agent_configuration.json\u001b[39m\u001b[39m\"\u001b[39m))\n\u001b[1;32m----> <a href='vscode-notebook-cell:/d%3A/ROAR_XUAN/ROAR-RL-Racer/test_wp_maps.ipynb#X10sZmlsZQ%3D%3D?line=1'>2</a>\u001b[0m agent \u001b[39m=\u001b[39m RLe2ePPOAgent(vehicle\u001b[39m=\u001b[39;49m\u001b[39mNone\u001b[39;49;00m, agent_settings\u001b[39m=\u001b[39;49magent_config)\n",
      "File \u001b[1;32md:\\ROAR_XUAN\\ROAR-RL-Racer\\ROAR\\agent_module\\rl_e2e_ppo_agent.py:25\u001b[0m, in \u001b[0;36mRLe2ePPOAgent.__init__\u001b[1;34m(self, vehicle, agent_settings, frame_stack, **kwargs)\u001b[0m\n\u001b[0;32m     23\u001b[0m \u001b[39msuper\u001b[39m()\u001b[39m.\u001b[39m\u001b[39m__init__\u001b[39m(vehicle, agent_settings, \u001b[39m*\u001b[39m\u001b[39m*\u001b[39mkwargs)\n\u001b[0;32m     24\u001b[0m \u001b[39mself\u001b[39m\u001b[39m.\u001b[39mmission_planner \u001b[39m=\u001b[39m WaypointFollowingMissionPlanner(agent\u001b[39m=\u001b[39m\u001b[39mself\u001b[39m)\n\u001b[1;32m---> 25\u001b[0m \u001b[39mself\u001b[39m\u001b[39m.\u001b[39mplan_lst \u001b[39m=\u001b[39m \u001b[39mlist\u001b[39m(\u001b[39mself\u001b[39;49m\u001b[39m.\u001b[39;49mmission_planner\u001b[39m.\u001b[39;49mproduce_single_lap_mission_plan())\n\u001b[0;32m     26\u001b[0m \u001b[39mprint\u001b[39m(\u001b[39mlen\u001b[39m(\u001b[39mself\u001b[39m\u001b[39m.\u001b[39mplan_lst))\n\u001b[0;32m     27\u001b[0m \u001b[39mreturn\u001b[39;00m \n",
      "File \u001b[1;32md:\\ROAR_XUAN\\ROAR-RL-Racer\\ROAR\\planning_module\\mission_planner\\waypoint_following_mission_planner.py:122\u001b[0m, in \u001b[0;36mWaypointFollowingMissionPlanner.produce_single_lap_mission_plan\u001b[1;34m(self)\u001b[0m\n\u001b[0;32m    120\u001b[0m \u001b[39mdef\u001b[39;00m \u001b[39mproduce_single_lap_mission_plan\u001b[39m(\u001b[39mself\u001b[39m):\n\u001b[0;32m    121\u001b[0m     raw_path: List[List[\u001b[39mfloat\u001b[39m]] \u001b[39m=\u001b[39m \u001b[39mself\u001b[39m\u001b[39m.\u001b[39m_read_data_file()\n\u001b[1;32m--> 122\u001b[0m     raw_path \u001b[39m=\u001b[39m \u001b[39mself\u001b[39;49m\u001b[39m.\u001b[39;49minterpolate_waypoints(np\u001b[39m.\u001b[39;49marray(raw_path))\n\u001b[0;32m    123\u001b[0m     \u001b[39mreturn\u001b[39;00m raw_path\n\u001b[0;32m    124\u001b[0m     \u001b[39m# self.waypoints_list_check(waypoints=raw_path)\u001b[39;00m\n\u001b[0;32m    125\u001b[0m     \u001b[39m# raw_path = self.equally_sample_waypoints(raw_path, dis_thres = 0.02)\u001b[39;00m\n\u001b[0;32m    126\u001b[0m     \u001b[39m# self.waypoints_list_check(waypoints=raw_path)\u001b[39;00m\n",
      "\u001b[1;31mTypeError\u001b[0m: interpolate_waypoints() missing 1 required positional argument: 'thres'"
     ]
    }
   ],
   "source": [
    "agent_config = AgentConfig.parse_file(Path(\"./ROAR_gym/configurations/agent_configuration.json\"))\n",
    "agent = RLe2ePPOAgent(vehicle=None, agent_settings=agent_config)"
   ]
  },
  {
   "cell_type": "code",
   "execution_count": 9,
   "metadata": {},
   "outputs": [],
   "source": [
    "agent_config = AgentConfig.parse_file(Path(\"./ROAR/configurations/carla/carla_agent_configuration.json\"))\n",
    "agent = RLe2ePPOAgent(vehicle=None, agent_settings=agent_config)\n",
    "\n",
    "loadmap = OccupancyGridMap(agent)\n",
    "#loadmap.load_from_file(Path(\"C://Users//roar//Desktop//ROAR_record//ROAR_record//data//output//occupancy_map//occu_map.npy\"))\n",
    "loadmap.load_from_file(Path(\"data//cleaned_occ_map//berkeley_major_cleaned_occu_map.npy\"))"
   ]
  },
  {
   "cell_type": "code",
   "execution_count": 10,
   "metadata": {},
   "outputs": [],
   "source": [
    "local_transform = Transform.from_array(waypoints[0])\n",
    "#local_map = loadmap.get_map(transform = local_transform)\n",
    "local_map = loadmap.get_map(transform = local_transform, view_size=(100, 100), boundary_size=(20, 20), show_agent= True)\n",
    "cv2.imshow(\"local_map\", local_map) # uncomment to show occu map\n",
    "cv2.waitKey(0)\n",
    "cv2.destroyAllWindows()"
   ]
  },
  {
   "cell_type": "code",
   "execution_count": 13,
   "metadata": {},
   "outputs": [
    {
     "ename": "KeyboardInterrupt",
     "evalue": "",
     "output_type": "error",
     "traceback": [
      "\u001b[1;31m---------------------------------------------------------------------------\u001b[0m",
      "\u001b[1;31mKeyboardInterrupt\u001b[0m                         Traceback (most recent call last)",
      "\u001b[1;32mc:\\Users\\roar\\Desktop\\ROAR_record_TL\\ROAR_record\\test_wp_maps.ipynb Cell 6'\u001b[0m in \u001b[0;36m<cell line: 3>\u001b[1;34m()\u001b[0m\n\u001b[0;32m      <a href='vscode-notebook-cell:/c%3A/Users/roar/Desktop/ROAR_record_TL/ROAR_record/test_wp_maps.ipynb#ch0000005?line=5'>6</a>\u001b[0m loadmap\u001b[39m.\u001b[39mupdate_to_one(np\u001b[39m.\u001b[39marray([waypoints[i\u001b[39m*\u001b[39mk][:\u001b[39m3\u001b[39m]]))\n\u001b[0;32m      <a href='vscode-notebook-cell:/c%3A/Users/roar/Desktop/ROAR_record_TL/ROAR_record/test_wp_maps.ipynb#ch0000005?line=6'>7</a>\u001b[0m transform \u001b[39m=\u001b[39m Transform\u001b[39m.\u001b[39mfrom_array(waypoints[k\u001b[39m*\u001b[39mi])\n\u001b[1;32m----> <a href='vscode-notebook-cell:/c%3A/Users/roar/Desktop/ROAR_record_TL/ROAR_record/test_wp_maps.ipynb#ch0000005?line=7'>8</a>\u001b[0m local_map \u001b[39m=\u001b[39m loadmap\u001b[39m.\u001b[39;49mget_map(transform \u001b[39m=\u001b[39;49m transform)\n\u001b[0;32m      <a href='vscode-notebook-cell:/c%3A/Users/roar/Desktop/ROAR_record_TL/ROAR_record/test_wp_maps.ipynb#ch0000005?line=8'>9</a>\u001b[0m \u001b[39m# x, y = points[0], points[2]\u001b[39;00m\n\u001b[0;32m     <a href='vscode-notebook-cell:/c%3A/Users/roar/Desktop/ROAR_record_TL/ROAR_record/test_wp_maps.ipynb#ch0000005?line=9'>10</a>\u001b[0m cv2\u001b[39m.\u001b[39mimshow(\u001b[39m\"\u001b[39m\u001b[39mlocal_map\u001b[39m\u001b[39m\"\u001b[39m, local_map) \u001b[39m# uncomment to show occu map\u001b[39;00m\n",
      "File \u001b[1;32mc:\\Users\\roar\\Desktop\\ROAR_record_TL\\ROAR_record\\ROAR\\utilities_module\\occupancy_map.py:291\u001b[0m, in \u001b[0;36mOccupancyGridMap.get_map\u001b[1;34m(self, transform, show_agent, view_size, boundary_size, vehicle_value, arbitrary_locations, arbitrary_point_value)\u001b[0m\n\u001b[0;32m    <a href='file:///c%3A/Users/roar/Desktop/ROAR_record_TL/ROAR_record/ROAR/utilities_module/occupancy_map.py?line=288'>289</a>\u001b[0m     \u001b[39mreturn\u001b[39;00m np\u001b[39m.\u001b[39mfloat32(\u001b[39mself\u001b[39m\u001b[39m.\u001b[39m_map\u001b[39m.\u001b[39mcopy())\n\u001b[0;32m    <a href='file:///c%3A/Users/roar/Desktop/ROAR_record_TL/ROAR_record/ROAR/utilities_module/occupancy_map.py?line=289'>290</a>\u001b[0m \u001b[39melse\u001b[39;00m:\n\u001b[1;32m--> <a href='file:///c%3A/Users/roar/Desktop/ROAR_record_TL/ROAR_record/ROAR/utilities_module/occupancy_map.py?line=290'>291</a>\u001b[0m     map_to_view \u001b[39m=\u001b[39m np\u001b[39m.\u001b[39mfloat32(\u001b[39mself\u001b[39;49m\u001b[39m.\u001b[39;49m_map\u001b[39m.\u001b[39;49mcopy())\n\u001b[0;32m    <a href='file:///c%3A/Users/roar/Desktop/ROAR_record_TL/ROAR_record/ROAR/utilities_module/occupancy_map.py?line=291'>292</a>\u001b[0m     \u001b[39mif\u001b[39;00m show_agent:\n\u001b[0;32m    <a href='file:///c%3A/Users/roar/Desktop/ROAR_record_TL/ROAR_record/ROAR/utilities_module/occupancy_map.py?line=292'>293</a>\u001b[0m         location \u001b[39m=\u001b[39m transform\u001b[39m.\u001b[39mlocation\u001b[39m.\u001b[39mto_array()\n",
      "\u001b[1;31mKeyboardInterrupt\u001b[0m: "
     ]
    }
   ],
   "source": [
    "count = 0\n",
    "k = 10\n",
    "for i in range(len(waypoints)//k):\n",
    "    #count += 1\n",
    "    #print(waypoints[k*i])\n",
    "    loadmap.update_to_one(np.array([waypoints[i*k][:3]]))\n",
    "    transform = Transform.from_array(waypoints[k*i])\n",
    "    local_map = loadmap.get_map(transform = transform)\n",
    "    # x, y = points[0], points[2]\n",
    "    cv2.imshow(\"local_map\", local_map) # uncomment to show occu map\n",
    "    cv2.waitKey(1)\n",
    "    #cv2.destroyAllWindows()\n",
    "cv2.destroyAllWindows()\n",
    "print(count)"
   ]
  },
  {
   "cell_type": "code",
   "execution_count": null,
   "metadata": {},
   "outputs": [],
   "source": []
  },
  {
   "attachments": {},
   "cell_type": "markdown",
   "metadata": {},
   "source": [
    "# Getting spawn index for reward line"
   ]
  },
  {
   "cell_type": "code",
   "execution_count": 2,
   "metadata": {},
   "outputs": [
    {
     "name": "stdout",
     "output_type": "stream",
     "text": [
      "(3373, 2)\n"
     ]
    }
   ],
   "source": [
    "spawn_position = spawn_params['spawn_position']\n",
    "file = open(\"./ROAR_gym/tempout.txt\")\n",
    "reward_lines = []\n",
    "for r in file:\n",
    "    seg = r.rstrip().split(' ')\n",
    "    reward_lines.append([float(seg[0]), float(seg[1])])\n",
    "reward_lines = np.array(reward_lines)\n",
    "print(reward_lines.shape)"
   ]
  },
  {
   "cell_type": "code",
   "execution_count": 3,
   "metadata": {},
   "outputs": [
    {
     "name": "stdout",
     "output_type": "stream",
     "text": [
      "{0: 70, 1: 317, 2: 467, 3: 727, 4: 993, 5: 1269, 6: 1512, 7: 1906, 8: 2024, 9: 2298, 10: 2923, 11: 3179, 12: 4}\n"
     ]
    }
   ],
   "source": [
    "closest_index_dict = {}\n",
    "for id in spawn_position:\n",
    "    pt = spawn_position[id]\n",
    "    closest_index = np.argmin(np.linalg.norm(reward_lines - np.array([pt[0], pt[2]]), axis = 1))\n",
    "    closest_index_dict[id] = closest_index + 1\n",
    "print(closest_index_dict)"
   ]
  },
  {
   "cell_type": "code",
   "execution_count": 6,
   "metadata": {},
   "outputs": [
    {
     "name": "stdout",
     "output_type": "stream",
     "text": [
      "dict_values([70, 317, 467, 727, 993, 1269, 1512, 1906, 2024, 2298, 2923, 3179, 4])\n"
     ]
    }
   ],
   "source": [
    "print(closest_index_dict.values())"
   ]
  },
  {
   "cell_type": "code",
   "execution_count": 7,
   "metadata": {},
   "outputs": [
    {
     "data": {
      "text/plain": [
       "array([1345.54311752, 4259.20436535])"
      ]
     },
     "execution_count": 7,
     "metadata": {},
     "output_type": "execute_result"
    }
   ],
   "source": [
    "reward_lines[317]"
   ]
  }
 ],
 "metadata": {
  "interpreter": {
   "hash": "626f6e277b9372fb8efa42c72dc314944a644c8a833ea89de2c08afd69c9b67d"
  },
  "kernelspec": {
   "display_name": "Python 3.8.0 ('ROAR_major_map')",
   "language": "python",
   "name": "python3"
  },
  "language_info": {
   "codemirror_mode": {
    "name": "ipython",
    "version": 3
   },
   "file_extension": ".py",
   "mimetype": "text/x-python",
   "name": "python",
   "nbconvert_exporter": "python",
   "pygments_lexer": "ipython3",
   "version": "3.8.13"
  },
  "orig_nbformat": 4
 },
 "nbformat": 4,
 "nbformat_minor": 2
}
